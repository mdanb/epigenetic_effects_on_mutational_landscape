{
 "cells": [
  {
   "cell_type": "code",
   "execution_count": 1,
   "id": "ae086516",
   "metadata": {},
   "outputs": [
    {
     "name": "stderr",
     "output_type": "stream",
     "text": [
      "-- \u001b[1mAttaching core tidyverse packages\u001b[22m --------------------------------------------------------------------------------------------------------------------------------------------------- tidyverse 2.0.0 --\n",
      "\u001b[32mv\u001b[39m \u001b[34mdplyr    \u001b[39m 1.1.3     \u001b[32mv\u001b[39m \u001b[34mreadr    \u001b[39m 2.1.4\n",
      "\u001b[32mv\u001b[39m \u001b[34mforcats  \u001b[39m 1.0.0     \u001b[32mv\u001b[39m \u001b[34mstringr  \u001b[39m 1.5.0\n",
      "\u001b[32mv\u001b[39m \u001b[34mggplot2  \u001b[39m 3.4.4     \u001b[32mv\u001b[39m \u001b[34mtibble   \u001b[39m 3.2.1\n",
      "\u001b[32mv\u001b[39m \u001b[34mlubridate\u001b[39m 1.9.2     \u001b[32mv\u001b[39m \u001b[34mtidyr    \u001b[39m 1.3.0\n",
      "\u001b[32mv\u001b[39m \u001b[34mpurrr    \u001b[39m 1.0.2     \n",
      "-- \u001b[1mConflicts\u001b[22m --------------------------------------------------------------------------------------------------------------------------------------------------------------------- tidyverse_conflicts() --\n",
      "\u001b[31mx\u001b[39m \u001b[34mdplyr\u001b[39m::\u001b[32mcombine()\u001b[39m masks \u001b[34mgridExtra\u001b[39m::combine()\n",
      "\u001b[31mx\u001b[39m \u001b[34mdplyr\u001b[39m::\u001b[32mfilter()\u001b[39m  masks \u001b[34mstats\u001b[39m::filter()\n",
      "\u001b[31mx\u001b[39m \u001b[34mdplyr\u001b[39m::\u001b[32mlag()\u001b[39m     masks \u001b[34mstats\u001b[39m::lag()\n",
      "\u001b[36mi\u001b[39m Use the conflicted package (\u001b[3m\u001b[34m<http://conflicted.r-lib.org/>\u001b[39m\u001b[23m) to force all conflicts to become errors\n",
      "Loading required package: stats4\n",
      "\n",
      "Loading required package: BiocGenerics\n",
      "\n",
      "\n",
      "Attaching package: 'BiocGenerics'\n",
      "\n",
      "\n",
      "The following objects are masked from 'package:lubridate':\n",
      "\n",
      "    intersect, setdiff, union\n",
      "\n",
      "\n",
      "The following objects are masked from 'package:dplyr':\n",
      "\n",
      "    combine, intersect, setdiff, union\n",
      "\n",
      "\n",
      "The following object is masked from 'package:gridExtra':\n",
      "\n",
      "    combine\n",
      "\n",
      "\n",
      "The following objects are masked from 'package:stats':\n",
      "\n",
      "    IQR, mad, sd, var, xtabs\n",
      "\n",
      "\n",
      "The following objects are masked from 'package:base':\n",
      "\n",
      "    Filter, Find, Map, Position, Reduce, anyDuplicated, aperm, append,\n",
      "    as.data.frame, basename, cbind, colnames, dirname, do.call,\n",
      "    duplicated, eval, evalq, get, grep, grepl, intersect, is.unsorted,\n",
      "    lapply, mapply, match, mget, order, paste, pmax, pmax.int, pmin,\n",
      "    pmin.int, rank, rbind, rownames, sapply, setdiff, sort, table,\n",
      "    tapply, union, unique, unsplit, which.max, which.min\n",
      "\n",
      "\n",
      "Loading required package: S4Vectors\n",
      "\n",
      "\n",
      "Attaching package: 'S4Vectors'\n",
      "\n",
      "\n",
      "The following objects are masked from 'package:lubridate':\n",
      "\n",
      "    second, second<-\n",
      "\n",
      "\n",
      "The following objects are masked from 'package:dplyr':\n",
      "\n",
      "    first, rename\n",
      "\n",
      "\n",
      "The following object is masked from 'package:tidyr':\n",
      "\n",
      "    expand\n",
      "\n",
      "\n",
      "The following object is masked from 'package:utils':\n",
      "\n",
      "    findMatches\n",
      "\n",
      "\n",
      "The following objects are masked from 'package:base':\n",
      "\n",
      "    I, expand.grid, unname\n",
      "\n",
      "\n",
      "Loading required package: IRanges\n",
      "\n",
      "\n",
      "Attaching package: 'IRanges'\n",
      "\n",
      "\n",
      "The following object is masked from 'package:lubridate':\n",
      "\n",
      "    %within%\n",
      "\n",
      "\n",
      "The following objects are masked from 'package:dplyr':\n",
      "\n",
      "    collapse, desc, slice\n",
      "\n",
      "\n",
      "The following object is masked from 'package:purrr':\n",
      "\n",
      "    reduce\n",
      "\n",
      "\n",
      "Loading required package: GenomeInfoDb\n",
      "\n",
      "Loading required package: AnnotationDbi\n",
      "\n",
      "Loading required package: Biobase\n",
      "\n",
      "Welcome to Bioconductor\n",
      "\n",
      "    Vignettes contain introductory material; view with\n",
      "    'browseVignettes()'. To cite Bioconductor, see\n",
      "    'citation(\"Biobase\")', and for packages 'citation(\"pkgname\")'.\n",
      "\n",
      "\n",
      "\n",
      "Attaching package: 'AnnotationDbi'\n",
      "\n",
      "\n",
      "The following object is masked from 'package:dplyr':\n",
      "\n",
      "    select\n",
      "\n",
      "\n",
      "\n",
      "\n"
     ]
    }
   ],
   "source": [
    "library(optparse)\n",
    "library(gridExtra)\n",
    "library(tidyverse)\n",
    "library(GenomicRanges)\n",
    "library(GenomicFeatures)\n",
    "library(TxDb.Hsapiens.UCSC.hg19.knownGene)\n",
    "library(org.Hs.eg.db)\n",
    "library(rtracklayer)"
   ]
  },
  {
   "cell_type": "code",
   "execution_count": 2,
   "id": "aa55816d",
   "metadata": {},
   "outputs": [],
   "source": [
    "source(\"ML_utils.R\")\n",
    "\n",
    "parser <- OptionParser()\n",
    "parser <- add_option(parser, c(\"--datasets\"), type=\"character\")\n",
    "parser <- add_option(parser, c(\"--cancer_types\"), type=\"character\")\n",
    "parser <- add_option(parser, c(\"--cell_number_filter\"), type=\"integer\")\n",
    "parser <- add_option(parser, c(\"--tss_fragment_filter\"),\n",
    "                     type=\"character\", default=\"-1\")\n",
    "parser <- add_option(parser, c(\"--tissues_to_consider\"), \n",
    "                     type=\"character\", default=\"all\")\n",
    "parser <- add_option(parser, c(\"--ML_model\"), type=\"character\")\n",
    "parser <- add_option(parser, c(\"--annotation\"), \n",
    "                     type=\"character\", default=\"default_annotation\")\n",
    "parser <- add_option(parser, c(\"--feature_importance_method\"), type=\"character\")\n",
    "parser <- add_option(parser, c(\"--folds_for_test_set\"), type=\"character\")\n",
    "parser <- add_option(parser, c(\"--plot_bin_counts\"), action=\"store_true\", \n",
    "                     default=F)\n",
    "parser <- add_option(parser, c(\"--plot_bins_volcano\"), action=\"store_true\", \n",
    "                     default=F)\n",
    "parser <- add_option(parser, c(\"--hundred_kb\"), action=\"store_true\", \n",
    "                     default=F)"
   ]
  },
  {
   "cell_type": "code",
   "execution_count": 3,
   "id": "25fc7848",
   "metadata": {},
   "outputs": [],
   "source": [
    "args = parse_args(parser, args =\n",
    "                    c(\"--datasets=Tsankov\",\n",
    "                      \"--cancer_types=Lung-SCC\",\n",
    "                      \"--cell_number_filter=100\",\n",
    "                      \"--ML_model=XGB\",\n",
    "                      \"--annotation=test_annotation\",\n",
    "                      \"--feature_importance_method=permutation_importance\",\n",
    "                      \"--folds_for_test_set=1-10\"))\n"
   ]
  },
  {
   "cell_type": "code",
   "execution_count": 84,
   "id": "0d4a818d",
   "metadata": {},
   "outputs": [],
   "source": [
    "cancer_types = args$cancer_types\n",
    "cancer_types = unlist(strsplit(cancer_types, split = \",\"))\n",
    "datasets = unlist(strsplit(args$datasets, split = \",\"))\n",
    "datasets = sort(datasets)\n",
    "cell_number_filter = args$cell_number_filter\n",
    "tss_fragment_filter = unlist(strsplit(args$tss_fragment_filter, split = \",\"))\n",
    "annotation = args$annotation\n",
    "tissues_to_consider = strsplit(args$tissues_to_consider,  split=\",\")\n",
    "ML_model = args$ML_model\n",
    "feature_importance_method = args$feature_importance_method\n",
    "\n",
    "folds_for_test_set = args$folds_for_test_set\n",
    "folds_for_test_set = unlist(strsplit(args$folds_for_test_set, split = \"-\"))\n",
    "folds_for_test_set = seq(folds_for_test_set[1], folds_for_test_set[2])\n",
    "plot_bin_counts = args$plot_bin_counts\n",
    "hundred_kb = args$hundred_kb\n",
    "plot_bins_volcano = args$plot_bins_volcano\n"
   ]
  },
  {
   "cell_type": "code",
   "execution_count": 85,
   "id": "5318df42",
   "metadata": {},
   "outputs": [],
   "source": [
    "plot_dist <- function(X, bin_names) {\n",
    "  df <- data.frame(index = 1:nrow(X), \n",
    "                          value = X)\n",
    "  use_names = seq(1, length(df$index), by=10)\n",
    "  use_names = append(use_names, nrow(X))\n",
    "  p = ggplot(df) +\n",
    "    geom_bar(aes(x=index, y=value),\n",
    "             stat=\"identity\") +\n",
    "    xlab(\"Bin\") +\n",
    "    ylab(\"Counts\") +\n",
    "    geom_text(x=nrow(df) / 2, y=max(df[[\"value\"]]), \n",
    "              aes(label=paste0(\"n=\", sum(df[[\"value\"]]))),\n",
    "              size=10) +\n",
    "    scale_x_continuous(name=\"Row Names\", breaks=df$index[use_names], \n",
    "                       labels=bin_names[use_names]) +\n",
    "    theme(axis.text.x = element_text(angle = 45, hjust = 1))\n",
    "  return(p)\n",
    "}\n"
   ]
  },
  {
   "cell_type": "code",
   "execution_count": 86,
   "id": "abe657ca",
   "metadata": {},
   "outputs": [],
   "source": [
    "cancer_type=cancer_types[1]"
   ]
  },
  {
   "cell_type": "code",
   "execution_count": 87,
   "id": "e13d86f0",
   "metadata": {},
   "outputs": [],
   "source": [
    "scATAC_sources = construct_sources_string(datasets)"
   ]
  },
  {
   "cell_type": "code",
   "execution_count": 88,
   "id": "6eeb361d",
   "metadata": {},
   "outputs": [],
   "source": [
    "df_tsankov = readRDS(\"../../data/processed_data/count_overlap_data/combined_count_overlaps/finalized_annotation/Tsankov_combined_count_overlaps.rds\")"
   ]
  },
  {
   "cell_type": "code",
   "execution_count": 89,
   "id": "706c512e",
   "metadata": {},
   "outputs": [],
   "source": [
    "df_rawlins = readRDS(\"../../data/processed_data/count_overlap_data/combined_count_overlaps/finalized_annotation/Rawlins_fetal_lung_combined_count_overlaps.rds\")"
   ]
  },
  {
   "cell_type": "code",
   "execution_count": 90,
   "id": "96f8b477",
   "metadata": {},
   "outputs": [],
   "source": [
    "df_rawlins = df_rawlins[grep(\"NE\", rownames(df_rawlins)),]"
   ]
  },
  {
   "cell_type": "code",
   "execution_count": 98,
   "id": "f3c51831",
   "metadata": {},
   "outputs": [],
   "source": [
    "df = rbind(df_tsankov, df_rawlins)"
   ]
  },
  {
   "cell_type": "code",
   "execution_count": 99,
   "id": "32e35f9d",
   "metadata": {},
   "outputs": [],
   "source": [
    "keep = read.csv(\"../../data/processed_data/chr_keep.csv\")[[\"chr\"]]"
   ]
  },
  {
   "cell_type": "code",
   "execution_count": 100,
   "id": "6032a769",
   "metadata": {},
   "outputs": [],
   "source": [
    "df = df[, colnames(df) %in% keep]"
   ]
  },
  {
   "cell_type": "code",
   "execution_count": 101,
   "id": "ffefe808",
   "metadata": {},
   "outputs": [],
   "source": [
    "library(stringr)"
   ]
  },
  {
   "cell_type": "code",
   "execution_count": 105,
   "id": "b8661742",
   "metadata": {},
   "outputs": [],
   "source": [
    "df = df[, str_sort(colnames(df), numeric = TRUE)]"
   ]
  },
  {
   "cell_type": "code",
   "execution_count": 179,
   "id": "1d29be9d",
   "metadata": {},
   "outputs": [],
   "source": [
    "plot_list <- list()"
   ]
  },
  {
   "cell_type": "code",
   "execution_count": 181,
   "id": "407248c8",
   "metadata": {},
   "outputs": [],
   "source": [
    "for (i in 1:nrow(df)) {\n",
    "  row_data <- as.numeric(df[i, ])\n",
    "  row_name <- rownames(df)[i]\n",
    "  plot_list[[i]] <- func(row_data, row_name)\n",
    "}"
   ]
  },
  {
   "cell_type": "code",
   "execution_count": 180,
   "id": "b8033614",
   "metadata": {},
   "outputs": [],
   "source": [
    "func <- function(row, rowname) {\n",
    "  df <- tibble(x = seq(1, 2128), y = row)\n",
    "  p <- ggplot(df, aes(x = x, y = y)) + \n",
    "    geom_bar(stat = \"identity\") + \n",
    "    xlab(\"Bin\") + \n",
    "    ylab(\"Counts\") + \n",
    "    ggtitle(rowname)\n",
    "  return(p)\n",
    "}\n"
   ]
  },
  {
   "cell_type": "code",
   "execution_count": 184,
   "id": "f2ffc36b",
   "metadata": {},
   "outputs": [
    {
     "data": {
      "text/html": [
       "<strong>png:</strong> 2"
      ],
      "text/latex": [
       "\\textbf{png:} 2"
      ],
      "text/markdown": [
       "**png:** 2"
      ],
      "text/plain": [
       "png \n",
       "  2 "
      ]
     },
     "metadata": {},
     "output_type": "display_data"
    }
   ],
   "source": [
    "pdf(\"my_plots_single_page.pdf\", width = 11, height = 8.5) # Adjust size as needed\n",
    "\n",
    "# Arrange all plots on a single page (adjusting nrow and ncol as needed)\n",
    "do.call(grid.arrange, c(plot_list, ncol = 5, nrow = 5)) # Adjust ncol and nrow to fit your number of plots\n",
    "\n",
    "# Close the PDF device\n",
    "dev.off()"
   ]
  }
 ],
 "metadata": {
  "kernelspec": {
   "display_name": "R",
   "language": "R",
   "name": "ir"
  },
  "language_info": {
   "codemirror_mode": "r",
   "file_extension": ".r",
   "mimetype": "text/x-r-source",
   "name": "R",
   "pygments_lexer": "r",
   "version": "4.3.1"
  }
 },
 "nbformat": 4,
 "nbformat_minor": 5
}
