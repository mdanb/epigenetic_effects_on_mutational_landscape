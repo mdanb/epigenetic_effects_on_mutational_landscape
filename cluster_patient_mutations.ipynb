{
 "cells": [
  {
   "cell_type": "code",
   "execution_count": 2,
   "id": "717aa33a",
   "metadata": {},
   "outputs": [],
   "source": [
    "import pandas as pd\n",
    "import os\n",
    "import glob\n",
    "from sklearn.cluster import AgglomerativeClustering\n",
    "from scipy.cluster.hierarchy import dendrogram\n",
    "import matplotlib.pyplot as plt\n",
    "import numpy as np\n",
    "from matplotlib.pyplot import figure"
   ]
  },
  {
   "cell_type": "code",
   "execution_count": 2,
   "id": "bec3d76b",
   "metadata": {},
   "outputs": [],
   "source": [
    "# parser = argparse.ArgumentParser()\n",
    "\n",
    "# parser.add_argument('--cancer_types', nargs=\"+\", type=str,\n",
    "#                     help='which cancer types to analyze', required=True)"
   ]
  },
  {
   "cell_type": "code",
   "execution_count": 8,
   "id": "016e8e52",
   "metadata": {},
   "outputs": [],
   "source": [
    "# config = parser.parse_args(\"--cancer_types Skin-Melanoma\".split())\n",
    "# cancer_types = config.cancer_types"
   ]
  },
  {
   "cell_type": "code",
   "execution_count": 5,
   "id": "c2167f95",
   "metadata": {},
   "outputs": [],
   "source": [
    "def plot_dendrogram(model, plot_title, **kwargs):\n",
    "    # Create linkage matrix and then plot the dendrogram\n",
    "    # create the counts of samples under each node\n",
    "    figure(figsize=(30, 28))\n",
    "    plt.title(plot_title)\n",
    "\n",
    "    counts = np.zeros(model.children_.shape[0])\n",
    "    n_samples = len(model.labels_)\n",
    "    for i, merge in enumerate(model.children_):\n",
    "        current_count = 0\n",
    "        for child_idx in merge:\n",
    "            if child_idx < n_samples:\n",
    "                current_count += 1  # leaf node\n",
    "            else:\n",
    "                current_count += counts[child_idx - n_samples]\n",
    "        counts[i] = current_count\n",
    "\n",
    "    linkage_matrix = np.column_stack(\n",
    "        [model.children_, model.distances_, counts]\n",
    "    ).astype(float)\n",
    "\n",
    "    # Plot the corresponding dendrogram\n",
    "    dendrogram(linkage_matrix, **kwargs)\n",
    "    plt.xticks(fontsize=10)\n",
    "    plt.show()"
   ]
  },
  {
   "cell_type": "code",
   "execution_count": 6,
   "id": "2c588ae0",
   "metadata": {},
   "outputs": [],
   "source": [
    "def save_clustered_datafiles(model, data, cancer_type, distance_threshold, linkage, affinity):\n",
    "    os.makedirs(\"processed_data/hierarchically_clustered_mutations/\", exist_ok=True)\n",
    "    threshold_dir = f\"processed_data/hierarchically_clustered_mutations/{cancer_type}/linkage_{linkage}_affinity_\" \\\n",
    "                    f\"{affinity}/dist_thresh_{distance_threshold}\"\n",
    "    os.makedirs(threshold_dir,\n",
    "                exist_ok=True)\n",
    "    for idx, label in enumerate(np.unique(model.labels_)):\n",
    "        patient_cluster = data.loc[model.labels_ == label]\n",
    "        patient_cluster.to_csv(f\"{threshold_dir}/C{idx}.csv\")\n",
    "        patient_cluster.sum(axis=0).to_csv(f\"{threshold_dir}/aggregated_C{idx}.csv\")\n",
    "\n",
    "    data.sum(axis=0).to_csv(f\"{threshold_dir}/aggregated_all.csv\")"
   ]
  },
  {
   "cell_type": "code",
   "execution_count": 7,
   "id": "83e5c0a6",
   "metadata": {},
   "outputs": [],
   "source": [
    "def cluster_data_and_display_clustering(distance_threshold, mutations_df, plot_title,\n",
    "                                        save_clusters=False, affinity='euclidean',\n",
    "                                        affinity_matrix=None, linkage=\"ward\"):\n",
    "    model = AgglomerativeClustering(n_clusters=None,\n",
    "                                    distance_threshold=distance_threshold,\n",
    "                                    linkage=linkage)\n",
    "    if (affinity == \"euclidean\"):\n",
    "        model = model.fit(mutations_df)\n",
    "    elif (affinity == \"pearson\"):\n",
    "        try:\n",
    "            model = model.fit(affinity_matrix)\n",
    "        except:\n",
    "            print(\"affinity matrix musn't be None when affinity = 1-pearson\")\n",
    "    plot_dendrogram(model,\n",
    "                    plot_title,\n",
    "                    truncate_mode=\"level\",\n",
    "                    p=100,\n",
    "                    no_labels=True,\n",
    "                    color_threshold=distance_threshold,\n",
    "                    above_threshold_color=\"black\")\n",
    "    if (save_clusters):\n",
    "        save_clustered_datafiles(model, mutations_df, plot_title, distance_threshold,\n",
    "                                 linkage, affinity)"
   ]
  },
  {
   "cell_type": "code",
   "execution_count": 8,
   "id": "303de636",
   "metadata": {},
   "outputs": [],
   "source": [
    "def get_per_cancer_mutations(cancer_type):\n",
    "    binned_mutation_files = glob.glob(f'processed_data/per_patient_mutations/{cancer_type}/binned_mutations*')\n",
    "    columns = pd.read_csv(binned_mutation_files[0]).iloc[:, 0].values\n",
    "    df = pd.DataFrame(columns=columns)\n",
    "\n",
    "    for file in binned_mutation_files:\n",
    "        patient_id = file.split(\"_\")[-1].split(\".\")[0]\n",
    "        patient_mutations = pd.read_csv(file)['num_mutations']\n",
    "        df.loc[patient_id] = patient_mutations.values\n",
    "\n",
    "    agg_mutation_df = pd.read_csv(\"processed_data/mut_count_data.csv\", index_col=0)\n",
    "    regions_to_consider = agg_mutation_df.loc[~agg_mutation_df.isna().any(axis=1)].index.values\n",
    "    df = df.loc[:, regions_to_consider]\n",
    "    return df"
   ]
  },
  {
   "cell_type": "code",
   "execution_count": 20,
   "id": "46641fdf",
   "metadata": {},
   "outputs": [],
   "source": [
    "# Skin_Melanoma = get_per_cancer_mutations(\"Skin-Melanoma\")\n",
    "# cluster_data_and_display_clustering(5, Skin_Melanoma, \"Skin-Melanoma\", True,\n",
    "#                                     affinity=\"pearson\", affinity_matrix= 1 - np.corrcoef(Skin_Melanoma),\n",
    "#                                     linkage=\"average\")"
   ]
  },
  {
   "cell_type": "code",
   "execution_count": 21,
   "id": "724d575d",
   "metadata": {},
   "outputs": [],
   "source": [
    "# Skin_Melanoma = get_per_cancer_mutations(\"Skin-Melanoma\")\n",
    "# cluster_data_and_display_clustering(2, Skin_Melanoma, \"Skin-Melanoma\", True,\n",
    "#                                     affinity=\"pearson\", affinity_matrix= 1 - np.corrcoef(Skin_Melanoma),\n",
    "#                                     linkage=\"average\")"
   ]
  },
  {
   "cell_type": "code",
   "execution_count": 22,
   "id": "0617f92d",
   "metadata": {},
   "outputs": [],
   "source": [
    "# Skin_Melanoma = get_per_cancer_mutations(\"Skin-Melanoma\")\n",
    "# cluster_data_and_display_clustering(1.8, Skin_Melanoma, \"Skin-Melanoma\", True,\n",
    "#                                     affinity=\"pearson\", affinity_matrix= 1 - np.corrcoef(Skin_Melanoma),\n",
    "#                                     linkage=\"average\")"
   ]
  },
  {
   "cell_type": "code",
   "execution_count": 23,
   "id": "6a5b87b7",
   "metadata": {},
   "outputs": [],
   "source": [
    "# Skin_Melanoma = get_per_cancer_mutations(\"Skin-Melanoma\")\n",
    "# cluster_data_and_display_clustering(1.7, Skin_Melanoma, \"Skin-Melanoma\", True,\n",
    "#                                     affinity=\"pearson\", affinity_matrix= 1 - np.corrcoef(Skin_Melanoma),\n",
    "#                                     linkage=\"average\")"
   ]
  }
 ],
 "metadata": {
  "kernelspec": {
   "display_name": "Python 3",
   "language": "python",
   "name": "python3"
  },
  "language_info": {
   "codemirror_mode": {
    "name": "ipython",
    "version": 3
   },
   "file_extension": ".py",
   "mimetype": "text/x-python",
   "name": "python",
   "nbconvert_exporter": "python",
   "pygments_lexer": "ipython3",
   "version": "3.8.10"
  }
 },
 "nbformat": 4,
 "nbformat_minor": 5
}
