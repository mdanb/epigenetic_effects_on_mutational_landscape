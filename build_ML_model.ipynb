{
 "cells": [
  {
   "cell_type": "markdown",
   "id": "6c5d1060",
   "metadata": {},
   "source": [
    "# Imports"
   ]
  },
  {
   "cell_type": "code",
   "execution_count": 2,
   "id": "8cf50efe",
   "metadata": {},
   "outputs": [],
   "source": [
    "import pyreadr\n",
    "import pandas as pd\n",
    "import numpy as np\n",
    "import pickle\n",
    "import os\n",
    "import time\n",
    "from pipelinehelper import PipelineHelper\n",
    "from sklearn.pipeline import Pipeline\n",
    "from sklearn.ensemble import RandomForestRegressor\n",
    "from sklearn.model_selection import train_test_split\n",
    "from sklearn.model_selection import GridSearchCV\n",
    "from sklearn.model_selection import KFold\n",
    "from sklearn.metrics import explained_variance_score\n",
    "import argparse"
   ]
  },
  {
   "cell_type": "code",
   "execution_count": 3,
   "id": "ea03d132",
   "metadata": {},
   "outputs": [
    {
     "data": {
      "text/plain": [
       "_StoreAction(option_strings=['--cancer_types'], dest='cancer_types', nargs='+', const=None, default=None, type=<class 'str'>, choices=None, help='which cancer types to analyze', metavar=None)"
      ]
     },
     "execution_count": 3,
     "metadata": {},
     "output_type": "execute_result"
    }
   ],
   "source": [
    "parser = argparse.ArgumentParser()\n",
    "\n",
    "parser.add_argument('--cancer_types', nargs=\"+\", type=str,\n",
    "                    help='which cancer types to analyze', required=True)"
   ]
  },
  {
   "cell_type": "markdown",
   "id": "28f1bda5",
   "metadata": {},
   "source": [
    "# Jupyter Notebook specific argparse"
   ]
  },
  {
   "cell_type": "code",
   "execution_count": 4,
   "id": "b469ccec",
   "metadata": {},
   "outputs": [],
   "source": [
    "config = parser.parse_args(\"--cancer_types Skin-Melanoma Lung-AdenoCA\".split())\n",
    "cancer_types = config.cancer_types"
   ]
  },
  {
   "cell_type": "markdown",
   "id": "a08c683e",
   "metadata": {},
   "source": [
    "# Helpers"
   ]
  },
  {
   "cell_type": "markdown",
   "id": "6b78e316",
   "metadata": {},
   "source": [
    "### Split Train/Test helpers"
   ]
  },
  {
   "cell_type": "code",
   "execution_count": 32,
   "id": "bdcf42ab",
   "metadata": {},
   "outputs": [],
   "source": [
    "def get_train_test_split(X, y, test_size):\n",
    "    X_train, X_test, y_train, y_test = train_test_split(X, y,\n",
    "                                                        test_size=test_size, random_state=42)\n",
    "    return X_train, X_test, y_train, y_test"
   ]
  },
  {
   "cell_type": "markdown",
   "id": "91ece10d",
   "metadata": {},
   "source": [
    "### Cross Validation helpers"
   ]
  },
  {
   "cell_type": "code",
   "execution_count": 33,
   "id": "3eb3dda7",
   "metadata": {},
   "outputs": [],
   "source": [
    "def grid_search(X_train, y_train, pipe, params, num_k_folds):\n",
    "    start_time = time.time()\n",
    "    grid_search_object = GridSearchCV(pipe, params, scoring=\"explained_variance\",\n",
    "                                      cv=KFold(num_k_folds), n_jobs=-1, verbose=100)\n",
    "    grid_search_object.fit(X_train, y_train)\n",
    "    print(f\"--- {time.time() - start_time} seconds ---\")\n",
    "    return grid_search_object"
   ]
  },
  {
   "cell_type": "markdown",
   "id": "9906f4c0",
   "metadata": {},
   "source": [
    "### Feature Selection helpers"
   ]
  },
  {
   "cell_type": "code",
   "execution_count": 34,
   "id": "c86dcbea",
   "metadata": {},
   "outputs": [],
   "source": [
    "def get_top_n_features(clf, n, features):\n",
    "    feature_importances = clf.feature_importances_\n",
    "    feat_importance_idx = np.argsort(feature_importances)[::-1]\n",
    "    top_n_feats = features[feat_importance_idx][:n]\n",
    "    return top_n_feats\n",
    "\n",
    "def print_and_save_top_features(top_features, filepath):\n",
    "    n = len(top_features)\n",
    "    print(f\"Top {n} features\")\n",
    "    f = open(filepath, \"w\")\n",
    "    for idx, feature in enumerate(top_features):\n",
    "        print(f\"{idx+1}. {feature}\")\n",
    "        f.write(f\"{idx+1}. {feature}\\n\")\n",
    "\n",
    "def backward_eliminate_features(X_train, y_train, starting_clf, starting_n,\n",
    "                                params, num_k_folds, cancer_type, tissue_spec = False):\n",
    "    dir=f\"models/{cancer_type}/backwards_elimination_results\"\n",
    "    if (tissue_spec):\n",
    "        dir = dir + \"_tissue_spec\"\n",
    "    os.makedirs(dir, exist_ok=True)\n",
    "    top_n_feats = get_top_n_features(starting_clf, starting_n, X_train.columns.values)\n",
    "    X_train = X_train.loc[:, top_n_feats]\n",
    "    print_and_save_top_features(top_n_feats,\n",
    "                                filepath=f\"{dir}/starter_model_top_features.txt\")\n",
    "    for idx in range(1, len(top_n_feats)):\n",
    "        filepath = f\"{dir}/top_features_iteration_{idx}.txt\"\n",
    "        if (not os.path.exists(filepath)):\n",
    "            pipe = Pipeline([\n",
    "                ('regressor', PipelineHelper([\n",
    "                    ('rf', RandomForestRegressor(random_state=idx)),\n",
    "                ])),\n",
    "            ])\n",
    "            grid_search_results = grid_search(X_train, y_train, pipe, params, num_k_folds)\n",
    "            best_model = grid_search_results.best_estimator_.get_params()['regressor__selected_model']\n",
    "            top_n_feats = get_top_n_features(best_model, len(X_train.columns) - 1, X_train.columns)\n",
    "            X_train = X_train.loc[:, top_n_feats]\n",
    "            print_and_save_top_features(top_n_feats, filepath=filepath)\n"
   ]
  },
  {
   "cell_type": "markdown",
   "id": "659bff82",
   "metadata": {},
   "source": [
    "### Test set performance helpers"
   ]
  },
  {
   "cell_type": "code",
   "execution_count": 35,
   "id": "3a790230",
   "metadata": {},
   "outputs": [],
   "source": [
    "def print_and_save_test_set_perf(X_test, y_test, model, cancer_type, tissue_spec=False):\n",
    "    test_preds = model.predict(X_test)\n",
    "    test_set_performance = explained_variance_score(y_test, test_preds)\n",
    "    filename = f\"models/{cancer_type}/test_set_performance\"\n",
    "    if (tissue_spec):\n",
    "        filename = filename + \"_tissue_spec\"\n",
    "    filename = filename + \".txt\"\n",
    "    pickle.dump(test_set_performance, open(filename, 'wb'))\n",
    "    print(f\"Test set performance: {test_set_performance}\")"
   ]
  },
  {
   "cell_type": "markdown",
   "id": "460b6dd2",
   "metadata": {},
   "source": [
    "# Load data"
   ]
  },
  {
   "cell_type": "code",
   "execution_count": 7,
   "id": "c18135bb",
   "metadata": {},
   "outputs": [],
   "source": [
    "scATAC_df = pyreadr.read_r(\"count_overlap_data/processed_count_overlaps\" \\\n",
    "                           \"/count_filter_100_combined_count_overlaps.rds\")\n",
    "scATAC_df = scATAC_df[None]\n",
    "scATAC_df = scATAC_df.T\n",
    "mutations_df = pd.read_csv(\"processed_data/mut_count_data.csv\", index_col=0)"
   ]
  },
  {
   "cell_type": "code",
   "execution_count": 9,
   "id": "c9e428aa",
   "metadata": {},
   "outputs": [
    {
     "ename": "PyreadrError",
     "evalue": "File b'count_overlap_data/processed_count_overlaps/count_filter_100_subdivided_combined_count_overlaps.rds' does not exist!",
     "output_type": "error",
     "traceback": [
      "\u001b[0;31m---------------------------------------------------------------------------\u001b[0m",
      "\u001b[0;31mPyreadrError\u001b[0m                              Traceback (most recent call last)",
      "\u001b[0;32m<ipython-input-9-efaab08fdcbf>\u001b[0m in \u001b[0;36m<module>\u001b[0;34m\u001b[0m\n\u001b[0;32m----> 1\u001b[0;31m scATAC_df_subdivided = pyreadr.read_r(\"count_overlap_data/processed_count_overlaps\" \\\n\u001b[0m\u001b[1;32m      2\u001b[0m                            \"/count_filter_100_subdivided_combined_count_overlaps.rds\")\n\u001b[1;32m      3\u001b[0m \u001b[0mscATAC_df_subdivided\u001b[0m \u001b[0;34m=\u001b[0m \u001b[0mscATAC_df_subdivided\u001b[0m\u001b[0;34m[\u001b[0m\u001b[0;32mNone\u001b[0m\u001b[0;34m]\u001b[0m\u001b[0;34m\u001b[0m\u001b[0;34m\u001b[0m\u001b[0m\n\u001b[1;32m      4\u001b[0m \u001b[0mscATAC_df_subdivided\u001b[0m \u001b[0;34m=\u001b[0m \u001b[0mscATAC_df_subdivided\u001b[0m\u001b[0;34m.\u001b[0m\u001b[0mT\u001b[0m\u001b[0;34m\u001b[0m\u001b[0;34m\u001b[0m\u001b[0m\n",
      "\u001b[0;32m~/.local/lib/python3.8/site-packages/pyreadr/pyreadr.py\u001b[0m in \u001b[0;36mread_r\u001b[0;34m(path, use_objects, timezone)\u001b[0m\n\u001b[1;32m     63\u001b[0m     \u001b[0mfilename_bytes\u001b[0m \u001b[0;34m=\u001b[0m \u001b[0mos\u001b[0m\u001b[0;34m.\u001b[0m\u001b[0mpath\u001b[0m\u001b[0;34m.\u001b[0m\u001b[0mexpanduser\u001b[0m\u001b[0;34m(\u001b[0m\u001b[0mfilename_bytes\u001b[0m\u001b[0;34m)\u001b[0m\u001b[0;34m\u001b[0m\u001b[0;34m\u001b[0m\u001b[0m\n\u001b[1;32m     64\u001b[0m     \u001b[0;32mif\u001b[0m \u001b[0;32mnot\u001b[0m \u001b[0mos\u001b[0m\u001b[0;34m.\u001b[0m\u001b[0mpath\u001b[0m\u001b[0;34m.\u001b[0m\u001b[0misfile\u001b[0m\u001b[0;34m(\u001b[0m\u001b[0mfilename_bytes\u001b[0m\u001b[0;34m)\u001b[0m\u001b[0;34m:\u001b[0m\u001b[0;34m\u001b[0m\u001b[0;34m\u001b[0m\u001b[0m\n\u001b[0;32m---> 65\u001b[0;31m         \u001b[0;32mraise\u001b[0m \u001b[0mPyreadrError\u001b[0m\u001b[0;34m(\u001b[0m\u001b[0;34m\"File {0} does not exist!\"\u001b[0m\u001b[0;34m.\u001b[0m\u001b[0mformat\u001b[0m\u001b[0;34m(\u001b[0m\u001b[0mfilename_bytes\u001b[0m\u001b[0;34m)\u001b[0m\u001b[0;34m)\u001b[0m\u001b[0;34m\u001b[0m\u001b[0;34m\u001b[0m\u001b[0m\n\u001b[0m\u001b[1;32m     66\u001b[0m     \u001b[0mparser\u001b[0m\u001b[0;34m.\u001b[0m\u001b[0mparse\u001b[0m\u001b[0;34m(\u001b[0m\u001b[0mfilename_bytes\u001b[0m\u001b[0;34m)\u001b[0m\u001b[0;34m\u001b[0m\u001b[0;34m\u001b[0m\u001b[0m\n\u001b[1;32m     67\u001b[0m \u001b[0;34m\u001b[0m\u001b[0m\n",
      "\u001b[0;31mPyreadrError\u001b[0m: File b'count_overlap_data/processed_count_overlaps/count_filter_100_subdivided_combined_count_overlaps.rds' does not exist!"
     ]
    }
   ],
   "source": [
    "scATAC_df_subdivided = pyreadr.read_r(\"count_overlap_data/processed_count_overlaps\" \\\n",
    "                           \"/count_filter_100_subdivided_combined_count_overlaps.rds\")\n",
    "scATAC_df_subdivided = scATAC_df_subdivided[None]\n",
    "scATAC_df_subdivided = scATAC_df_subdivided.T"
   ]
  },
  {
   "cell_type": "code",
   "execution_count": 10,
   "id": "68a181cd",
   "metadata": {},
   "outputs": [
    {
     "ename": "NameError",
     "evalue": "name 'scATAC_df_subdivided' is not defined",
     "output_type": "error",
     "traceback": [
      "\u001b[0;31m---------------------------------------------------------------------------\u001b[0m",
      "\u001b[0;31mNameError\u001b[0m                                 Traceback (most recent call last)",
      "\u001b[0;32m<ipython-input-10-a72ae9d72e8e>\u001b[0m in \u001b[0;36m<module>\u001b[0;34m\u001b[0m\n\u001b[0;32m----> 1\u001b[0;31m \u001b[0mscATAC_df_subdivided\u001b[0m\u001b[0;34m\u001b[0m\u001b[0;34m\u001b[0m\u001b[0m\n\u001b[0m",
      "\u001b[0;31mNameError\u001b[0m: name 'scATAC_df_subdivided' is not defined"
     ]
    }
   ],
   "source": [
    "scATAC_df_subdivided"
   ]
  },
  {
   "cell_type": "markdown",
   "id": "d963d78a",
   "metadata": {},
   "source": [
    "# Select data, Split Train/Test, Cross Validate, Feature Selection, Test Set perfomance"
   ]
  },
  {
   "cell_type": "code",
   "execution_count": 11,
   "id": "83baccd8",
   "metadata": {},
   "outputs": [],
   "source": [
    "idx_select = ~pd.isnull(mutations_df).any(axis=1)\n",
    "scATAC_df = scATAC_df[idx_select]\n",
    "mutations_df = mutations_df[idx_select]\n",
    "\n",
    "mutations_per_cancer_type = {}"
   ]
  },
  {
   "cell_type": "code",
   "execution_count": 1,
   "id": "028fbd38",
   "metadata": {},
   "outputs": [
    {
     "ename": "NameError",
     "evalue": "name 'cancer_types' is not defined",
     "output_type": "error",
     "traceback": [
      "\u001b[0;31m---------------------------------------------------------------------------\u001b[0m",
      "\u001b[0;31mNameError\u001b[0m                                 Traceback (most recent call last)",
      "\u001b[0;32m<ipython-input-1-ceb3b6df58d6>\u001b[0m in \u001b[0;36m<module>\u001b[0;34m\u001b[0m\n\u001b[0;32m----> 1\u001b[0;31m \u001b[0;32mfor\u001b[0m \u001b[0mcancer_type\u001b[0m \u001b[0;32min\u001b[0m \u001b[0mcancer_types\u001b[0m\u001b[0;34m:\u001b[0m\u001b[0;34m\u001b[0m\u001b[0;34m\u001b[0m\u001b[0m\n\u001b[0m\u001b[1;32m      2\u001b[0m     \u001b[0mcancer_type_specific_mut_idx\u001b[0m \u001b[0;34m=\u001b[0m \u001b[0;34m[\u001b[0m\u001b[0mi\u001b[0m \u001b[0;32mfor\u001b[0m \u001b[0mi\u001b[0m\u001b[0;34m,\u001b[0m \u001b[0ms\u001b[0m \u001b[0;32min\u001b[0m \u001b[0menumerate\u001b[0m\u001b[0;34m(\u001b[0m\u001b[0mmutations_df\u001b[0m\u001b[0;34m.\u001b[0m\u001b[0mcolumns\u001b[0m\u001b[0;34m.\u001b[0m\u001b[0mvalues\u001b[0m\u001b[0;34m)\u001b[0m \u001b[0;32mif\u001b[0m \u001b[0mcancer_type\u001b[0m \u001b[0;34m==\u001b[0m \u001b[0ms\u001b[0m\u001b[0;34m]\u001b[0m\u001b[0;34m[\u001b[0m\u001b[0;36m0\u001b[0m\u001b[0;34m]\u001b[0m\u001b[0;34m\u001b[0m\u001b[0;34m\u001b[0m\u001b[0m\n\u001b[1;32m      3\u001b[0m     \u001b[0mmutations_per_cancer_type\u001b[0m\u001b[0;34m[\u001b[0m\u001b[0mcancer_type\u001b[0m\u001b[0;34m]\u001b[0m \u001b[0;34m=\u001b[0m \u001b[0mmutations_df\u001b[0m\u001b[0;34m.\u001b[0m\u001b[0miloc\u001b[0m\u001b[0;34m[\u001b[0m\u001b[0;34m:\u001b[0m\u001b[0;34m,\u001b[0m \u001b[0mcancer_type_specific_mut_idx\u001b[0m\u001b[0;34m]\u001b[0m\u001b[0;34m\u001b[0m\u001b[0;34m\u001b[0m\u001b[0m\n\u001b[1;32m      4\u001b[0m \u001b[0;34m\u001b[0m\u001b[0m\n\u001b[1;32m      5\u001b[0m     \u001b[0;31m#### Split Train/Test ####\u001b[0m\u001b[0;34m\u001b[0m\u001b[0;34m\u001b[0m\u001b[0;34m\u001b[0m\u001b[0m\n",
      "\u001b[0;31mNameError\u001b[0m: name 'cancer_types' is not defined"
     ]
    }
   ],
   "source": [
    "for cancer_type in cancer_types:\n",
    "    cancer_type_specific_mut_idx = [i for i, s in enumerate(mutations_df.columns.values) if cancer_type == s][0]\n",
    "    mutations_per_cancer_type[cancer_type] = mutations_df.iloc[:, cancer_type_specific_mut_idx]\n",
    "\n",
    "    #### Split Train/Test ####\n",
    "    # All cells\n",
    "    X_train, X_test, y_train, y_test = get_train_test_split(scATAC_df, mutations_per_cancer_type[cancer_type],\n",
    "                                                            0.10)\n",
    "\n",
    "    # Tissue Specific\n",
    "    tissue = cancer_type.split(\"-\")[0]\n",
    "    tissue_specific_cell_types = [cell_type for cell_type in scATAC_df.columns.values if tissue in cell_type]\n",
    "    per_tissue_df = scATAC_df.loc[:, tissue_specific_cell_types]\n",
    "    X_train_tissue_spec, X_test_tissue_spec, y_train_tissue_spec, y_test_tissue_spec = \\\n",
    "                                                                            get_train_test_split(\n",
    "                                                                                per_tissue_df,\n",
    "                                                                                mutations_per_cancer_type[cancer_type],\n",
    "                                                                                0.10)\n",
    "    #### Cross Validate ####\n",
    "    filename = f\"models/{cancer_type}/grid_search_results.pkl\"\n",
    "    filename_tissue_spec = f\"models/{cancer_type}/grid_search_results_tissue_specific.pkl\"\n",
    "\n",
    "    os.makedirs(f\"models/{cancer_type}\", exist_ok=True)\n",
    "    pipe = Pipeline([\n",
    "        ('regressor', PipelineHelper([\n",
    "            ('rf', RandomForestRegressor(random_state=0)),\n",
    "        ])),\n",
    "    ])\n",
    "\n",
    "    params = {\n",
    "        'regressor__selected_model': pipe.named_steps['regressor'].generate({\n",
    "            'rf__n_estimators':[10, 100, 1000],\n",
    "        })\n",
    "    }\n",
    "\n",
    "    if (not os.path.exists(filename)):\n",
    "        grid_search_results = grid_search(X_train, y_train, pipe, params, 10)\n",
    "        pickle.dump(grid_search_results, open(filename, 'wb'))\n",
    "    if (not os.path.exists(filename_tissue_spec)):\n",
    "        grid_search_results_tissue_spec = grid_search(X_train_tissue_spec, y_train_tissue_spec, pipe, params, 10)\n",
    "        pickle.dump(grid_search_results_tissue_spec, open(filename_tissue_spec, 'wb'))\n",
    "\n",
    "    grid_search_results = pickle.load(open(filename, 'rb'))\n",
    "    grid_search_results_tissue_spec = pickle.load(open(filename_tissue_spec, 'rb'))\n",
    "\n",
    "    #### Feature Selection ####\n",
    "    print(f\"Best Score: {grid_search_results.best_score_}\\n\")\n",
    "    print(f\"Best Score: {grid_search_results_tissue_spec.best_score_}\\n\")\n",
    "\n",
    "    best_model = grid_search_results.best_estimator_.get_params()['regressor__selected_model']\n",
    "    best_model_tissue_spec = grid_search_results_tissue_spec.best_estimator_.get_params()['regressor__selected_model']\n",
    "\n",
    "    n = 20\n",
    "    top_n_feats = get_top_n_features(best_model, n, scATAC_df.columns.values)\n",
    "    top_n_feats_tissue_spec = get_top_n_features(best_model_tissue_spec, n, X_train_tissue_spec.columns.values)\n",
    "\n",
    "    #print_top_features(top_n_feats)\n",
    "\n",
    "    backward_eliminate_features(X_train, y_train, best_model, 20, params, 10, cancer_type)\n",
    "    backward_eliminate_features(X_train_tissue_spec, y_train_tissue_spec,\n",
    "                                best_model_tissue_spec, 20, params, 10, cancer_type, True)\n",
    "\n",
    "    #### Test Set Performance ####\n",
    "    print_and_save_test_set_perf(X_test, y_test, best_model, cancer_type)\n",
    "    print_and_save_test_set_perf(X_test_tissue_spec, y_test_tissue_spec, best_model_tissue_spec, cancer_type, True)"
   ]
  }
 ],
 "metadata": {
  "kernelspec": {
   "display_name": "Python 3",
   "language": "python",
   "name": "python3"
  },
  "language_info": {
   "codemirror_mode": {
    "name": "ipython",
    "version": 3
   },
   "file_extension": ".py",
   "mimetype": "text/x-python",
   "name": "python",
   "nbconvert_exporter": "python",
   "pygments_lexer": "ipython3",
   "version": "3.8.10"
  }
 },
 "nbformat": 4,
 "nbformat_minor": 5
}
